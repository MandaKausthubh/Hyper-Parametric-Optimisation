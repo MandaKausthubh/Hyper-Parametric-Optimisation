{
  "cells": [
    {
      "cell_type": "markdown",
      "metadata": {},
      "source": [
        "---\n",
        "title: \"Population Based HyperParametric Training\"\n",
        "format:\n",
        "  html:\n",
        "    code-fold: false\n",
        "jupyter: python3\n",
        "---\n",
        "\n",
        "\n",
        "# Importing the required libraries"
      ],
      "id": "3eddce9b"
    },
    {
      "cell_type": "code",
      "metadata": {},
      "source": [
        "import matplotlib.pyplot as plt\n",
        "import numpy as np\n",
        "import tensorflow as tf\n",
        "import keras as kr"
      ],
      "id": "1d0b5355",
      "execution_count": null,
      "outputs": []
    },
    {
      "cell_type": "markdown",
      "metadata": {},
      "source": [
        "# Preparing the dataset"
      ],
      "id": "27917bea"
    },
    {
      "cell_type": "code",
      "metadata": {},
      "source": [
        "mnist = kr.datasets.mnist\n",
        "(x_train, y_train), (x_test, y_test) = mnist.load_data()\n",
        "x_train, x_test = x_train / 255.0, x_test / 255.0\n",
        "y_train = tf.keras.utils.to_categorical(y_train, 10)\n",
        "y_test = tf.keras.utils.to_categorical(y_test, 10)\n",
        "\n",
        "train_data = {'X':x_train, 'Y':y_train}\n",
        "test_data = {'X':x_test, 'Y':y_test}"
      ],
      "id": "5cbd6c44",
      "execution_count": null,
      "outputs": []
    },
    {
      "cell_type": "markdown",
      "metadata": {},
      "source": [
        "# Template for Model"
      ],
      "id": "148a1928"
    },
    {
      "cell_type": "code",
      "metadata": {},
      "source": [
        "model = kr.models.Sequential([\n",
        "  kr.layers.Input((28,28)),\n",
        "  kr.layers.Flatten(),\n",
        "  kr.layers.Dense(128, activation='relu'),\n",
        "  kr.layers.Dropout(0.2),\n",
        "  kr.layers.Dense(10)\n",
        "])"
      ],
      "id": "458d5cd1",
      "execution_count": null,
      "outputs": []
    },
    {
      "cell_type": "markdown",
      "metadata": {},
      "source": [
        "# Creating The Optimizer\n"
      ],
      "id": "15f103ec"
    },
    {
      "cell_type": "code",
      "metadata": {},
      "source": [
        "class PopulationBasedOptimizer:\n",
        "\n",
        "    def __init__(self, model, NumberOfAgents, CutOffMeasure, NumberOfLearningIterations, InitialHyperParameter):\n",
        "        self.listOfAgents = [kr.models.clone_model(model) for _ in range(NumberOfAgents)]\n",
        "        self.HyperParameters = InitialHyperParameter\n",
        "        self.NumberOfAgents = NumberOfAgents\n",
        "        self.NumberOfLearningIterations = NumberOfLearningIterations\n",
        "        self.CutOffMeasure = CutOffMeasure\n",
        "        self.Iterations = NumberOfLearningIterations\n",
        "        for Agent, rate in zip(self.listOfAgents,self.HyperParameters):\n",
        "            optimizer = kr.optimizers.Adam(learning_rate=rate)\n",
        "            Agent.compile(optimizer=optimizer, loss='categorical_crossentropy', metrics=['accuracy'])\n",
        "\n",
        "    def PBTOptimise(self, train_data, test_data):\n",
        "        for iter in range(self.NumberOfLearningIterations):\n",
        "            for model in self.listOfAgents:\n",
        "                model.fit(train_data.get('X'), train_data.get('Y'), epochs=1, batch_size=10)\n",
        "            current_loss = np.zeros_like(self.NumberOfAgents)\n",
        "            for i,model in enumerate(self.listOfAgents):\n",
        "                current_loss[i], accuracy = model.evaluate(test_data.get('X'), test_data.get('Y'), verbose=1)\n",
        "                BadIndices = np.argsort(current_loss)[int(self.NumberOfAgents * self.CutOffMeasure):]\n",
        "            Best = np.argmin(current_loss)\n",
        "            for model in self.listOfAgents[BadIndices]:\n",
        "                Best_weights = self.listOfAgents[Best].get_weights()\n",
        "                model.set_weights(self.listOfAgents[Best].get_weights() + np.random.normal(0,1, shape(Best_weights)))\n",
        "                optimizer = kr.optimizers.Adam(learning_rate=self.InitialHyperParameter[Best])\n",
        "                model.compile(optimizer=optimizer, loss='categoricalcross_entropy', metrics=['accuracy'])\n",
        "\n",
        "        for model in self.listOfAgents:\n",
        "            model.fit(train_data.get('X'), train_data.get('Y'), epochs=1)\n",
        "        current_loss = np.zeros_like(NumberOfAgents)\n",
        "        for i,model in enumerate(self.listOfAgents):\n",
        "            current_loss[i], accuracy = model.evaluate(test_data.get('X'), test_data.get('Y'), verbose=1)\n",
        "            BadIndices = np.argsort(current_loss)[int(self.NumberOfAgents * self.CutOffMeasure):]\n",
        "        Best = np.argmin(current_loss)\n",
        "        # Please help\n",
        "        return self.listOfAgents[Best]"
      ],
      "id": "982a5adc",
      "execution_count": null,
      "outputs": []
    },
    {
      "cell_type": "code",
      "metadata": {},
      "source": [
        "InitialHyperParameter = np.random.normal(0,1,10)\n",
        "PBT = PopulationBasedOptimizer(model=model, NumberOfAgents=10, CutOffMeasure=0.2, NumberOfLearningIterations=20, InitialHyperParameter=InitialHyperParameter)\n",
        "best_model = PBT.PBTOptimise(train_data = train_data, test_data = test_data)"
      ],
      "id": "29e2abfa",
      "execution_count": null,
      "outputs": []
    }
  ],
  "metadata": {
    "kernelspec": {
      "name": "python3",
      "language": "python",
      "display_name": "Python 3 (ipykernel)",
      "path": "/Users/mandakausthubh/.pyenv/versions/3.12.5/share/jupyter/kernels/python3"
    }
  },
  "nbformat": 4,
  "nbformat_minor": 5
}