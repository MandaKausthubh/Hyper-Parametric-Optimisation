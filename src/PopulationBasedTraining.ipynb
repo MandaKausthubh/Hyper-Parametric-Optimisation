{
  "cells": [
    {
      "cell_type": "markdown",
      "metadata": {},
      "source": [
        "---\n",
        "title: \"Population Based HyperParametric Training\"\n",
        "format:\n",
        "  html:\n",
        "    code-fold: false\n",
        "jupyter: python3\n",
        "---\n",
        "\n",
        "# Importing the required libraries"
      ]
    },
    {
      "cell_type": "code",
      "execution_count": 1,
      "metadata": {},
      "outputs": [
        {
          "name": "stderr",
          "output_type": "stream",
          "text": [
            "2024-11-25 16:13:04.179983: I tensorflow/core/platform/cpu_feature_guard.cc:210] This TensorFlow binary is optimized to use available CPU instructions in performance-critical operations.\n",
            "To enable the following instructions: AVX2 FMA, in other operations, rebuild TensorFlow with the appropriate compiler flags.\n"
          ]
        }
      ],
      "source": [
        "import matplotlib.pyplot as plt\n",
        "import numpy as np\n",
        "import tensorflow as tf\n",
        "import keras as kr"
      ]
    },
    {
      "cell_type": "markdown",
      "metadata": {},
      "source": [
        "# Preparing the dataset"
      ]
    },
    {
      "cell_type": "code",
      "execution_count": 2,
      "metadata": {},
      "outputs": [],
      "source": [
        "mnist = kr.datasets.mnist\n",
        "(x_train, y_train), (x_test, y_test) = mnist.load_data()\n",
        "x_train, x_test = x_train / 255.0, x_test / 255.0\n",
        "y_train = tf.keras.utils.to_categorical(y_train, 10)\n",
        "y_test = tf.keras.utils.to_categorical(y_test, 10)\n",
        "\n",
        "train_data = {'X':x_train, 'Y':y_train}\n",
        "test_data = {'X':x_test, 'Y':y_test}"
      ]
    },
    {
      "cell_type": "markdown",
      "metadata": {},
      "source": [
        "# Template for Model"
      ]
    },
    {
      "cell_type": "code",
      "execution_count": 3,
      "metadata": {},
      "outputs": [],
      "source": [
        "model = kr.models.Sequential([\n",
        "  kr.layers.Input((28,28)),\n",
        "  kr.layers.Flatten(),\n",
        "  kr.layers.Dense(128, activation='relu'),\n",
        "  kr.layers.Dropout(0.2),\n",
        "  kr.layers.Dense(10)\n",
        "])"
      ]
    },
    {
      "cell_type": "markdown",
      "metadata": {},
      "source": [
        "# Creating The Optimizer"
      ]
    },
    {
      "cell_type": "code",
      "execution_count": 15,
      "metadata": {},
      "outputs": [],
      "source": [
        "class PopulationBasedOptimizer:\n",
        "\n",
        "    def __init__(self, model, NumberOfAgents, CutOffMeasure, NumberOfLearningIterations, InitialHyperParameter):\n",
        "        self.listOfAgents = [kr.models.clone_model(model) for _ in range(NumberOfAgents)]\n",
        "        self.HyperParameters = InitialHyperParameter\n",
        "        self.NumberOfAgents = NumberOfAgents\n",
        "        self.NumberOfLearningIterations = NumberOfLearningIterations\n",
        "        self.CutOffMeasure = CutOffMeasure\n",
        "        self.Iterations = NumberOfLearningIterations\n",
        "        for Agent, rate in zip(self.listOfAgents,self.HyperParameters):\n",
        "            optimizer = kr.optimizers.Adam(learning_rate=rate)\n",
        "            Agent.compile(optimizer=optimizer, loss='categorical_crossentropy', metrics=['accuracy'])\n",
        "\n",
        "    def PBTOptimise(self, train_data, test_data):\n",
        "        for iter in range(self.NumberOfLearningIterations):\n",
        "            for model in self.listOfAgents:\n",
        "                model.fit(train_data.get('X'), train_data.get('Y'), epochs=1, batch_size=10)\n",
        "            current_loss = np.zeros(self.NumberOfAgents)\n",
        "            for i,model in enumerate(self.listOfAgents):\n",
        "                loss, accuracy = model.evaluate(test_data.get('X'), test_data.get('Y'), verbose=1)\n",
        "                current_loss[i] = loss\n",
        "            Best = np.argmin(current_loss)\n",
        "            BadIndices = np.argsort(current_loss)[int(self.NumberOfAgents * self.CutOffMeasure):]\n",
        "            for index in BadIndices:\n",
        "                Best_weights = self.listOfAgents[Best].get_weights()\n",
        "                self.listOfAgents[index].set_weights(self.listOfAgents[Best].get_weights() + np.random.normal(0,1, shape = (Best_weights).shape))\n",
        "                optimizer = kr.optimizers.Adam(learning_rate=self.InitialHyperParameter[Best])\n",
        "                self.listOfAgents[index].compile(optimizer=optimizer, loss='categoricalcross_entropy', metrics=['accuracy'])\n",
        "\n",
        "        for model in self.listOfAgents:\n",
        "            model.fit(train_data.get('X'), train_data.get('Y'), epochs=1)\n",
        "        current_loss = np.zeros_like(NumberOfAgents)\n",
        "        for i,model in enumerate(self.listOfAgents):\n",
        "            current_loss[i], accuracy = model.evaluate(test_data.get('X'), test_data.get('Y'), verbose=1)\n",
        "            BadIndices = np.argsort(current_loss)[int(self.NumberOfAgents * self.CutOffMeasure):]\n",
        "        Best = np.argmin(current_loss)\n",
        "        # Please help\n",
        "        return self.listOfAgents[Best]"
      ]
    },
    {
      "cell_type": "code",
      "execution_count": 16,
      "metadata": {},
      "outputs": [
        {
          "name": "stdout",
          "output_type": "stream",
          "text": [
            "\u001b[1m6000/6000\u001b[0m \u001b[32m━━━━━━━━━━━━━━━━━━━━\u001b[0m\u001b[37m\u001b[0m \u001b[1m14s\u001b[0m 2ms/step - accuracy: 0.2085 - loss: 9.8183\n",
            "\u001b[1m6000/6000\u001b[0m \u001b[32m━━━━━━━━━━━━━━━━━━━━\u001b[0m\u001b[37m\u001b[0m \u001b[1m17s\u001b[0m 2ms/step - accuracy: 0.1091 - loss: 10.9919\n",
            "\u001b[1m6000/6000\u001b[0m \u001b[32m━━━━━━━━━━━━━━━━━━━━\u001b[0m\u001b[37m\u001b[0m \u001b[1m13s\u001b[0m 2ms/step - accuracy: 0.1426 - loss: 9.6923\n",
            "\u001b[1m6000/6000\u001b[0m \u001b[32m━━━━━━━━━━━━━━━━━━━━\u001b[0m\u001b[37m\u001b[0m \u001b[1m13s\u001b[0m 2ms/step - accuracy: 0.1399 - loss: 11.0319\n",
            "\u001b[1m6000/6000\u001b[0m \u001b[32m━━━━━━━━━━━━━━━━━━━━\u001b[0m\u001b[37m\u001b[0m \u001b[1m12s\u001b[0m 2ms/step - accuracy: 0.1089 - loss: 9.7926\n",
            "\u001b[1m6000/6000\u001b[0m \u001b[32m━━━━━━━━━━━━━━━━━━━━\u001b[0m\u001b[37m\u001b[0m \u001b[1m13s\u001b[0m 2ms/step - accuracy: 0.1397 - loss: 10.1959\n",
            "\u001b[1m6000/6000\u001b[0m \u001b[32m━━━━━━━━━━━━━━━━━━━━\u001b[0m\u001b[37m\u001b[0m \u001b[1m13s\u001b[0m 2ms/step - accuracy: 0.1489 - loss: 10.7780\n",
            "\u001b[1m6000/6000\u001b[0m \u001b[32m━━━━━━━━━━━━━━━━━━━━\u001b[0m\u001b[37m\u001b[0m \u001b[1m12s\u001b[0m 2ms/step - accuracy: 0.1163 - loss: 9.1726\n",
            "\u001b[1m6000/6000\u001b[0m \u001b[32m━━━━━━━━━━━━━━━━━━━━\u001b[0m\u001b[37m\u001b[0m \u001b[1m12s\u001b[0m 2ms/step - accuracy: 0.1379 - loss: 11.1670\n",
            "\u001b[1m6000/6000\u001b[0m \u001b[32m━━━━━━━━━━━━━━━━━━━━\u001b[0m\u001b[37m\u001b[0m \u001b[1m13s\u001b[0m 2ms/step - accuracy: 0.1407 - loss: 11.4980\n",
            "\u001b[1m313/313\u001b[0m \u001b[32m━━━━━━━━━━━━━━━━━━━━\u001b[0m\u001b[37m\u001b[0m \u001b[1m1s\u001b[0m 2ms/step - accuracy: 0.1978 - loss: 9.9653\n",
            "\u001b[1m313/313\u001b[0m \u001b[32m━━━━━━━━━━━━━━━━━━━━\u001b[0m\u001b[37m\u001b[0m \u001b[1m1s\u001b[0m 1ms/step - accuracy: 0.1044 - loss: 14.2691\n",
            "\u001b[1m313/313\u001b[0m \u001b[32m━━━━━━━━━━━━━━━━━━━━\u001b[0m\u001b[37m\u001b[0m \u001b[1m1s\u001b[0m 1ms/step - accuracy: 0.0921 - loss: 12.8629\n",
            "\u001b[1m313/313\u001b[0m \u001b[32m━━━━━━━━━━━━━━━━━━━━\u001b[0m\u001b[37m\u001b[0m \u001b[1m1s\u001b[0m 1ms/step - accuracy: 0.1693 - loss: 11.3386\n",
            "\u001b[1m313/313\u001b[0m \u001b[32m━━━━━━━━━━━━━━━━━━━━\u001b[0m\u001b[37m\u001b[0m \u001b[1m1s\u001b[0m 1ms/step - accuracy: 0.0204 - loss: 10.1306\n",
            "\u001b[1m313/313\u001b[0m \u001b[32m━━━━━━━━━━━━━━━━━━━━\u001b[0m\u001b[37m\u001b[0m \u001b[1m1s\u001b[0m 1ms/step - accuracy: 0.1044 - loss: 13.0323\n",
            "\u001b[1m313/313\u001b[0m \u001b[32m━━━━━━━━━━━━━━━━━━━━\u001b[0m\u001b[37m\u001b[0m \u001b[1m1s\u001b[0m 1ms/step - accuracy: 0.3103 - loss: 14.6467\n",
            "\u001b[1m313/313\u001b[0m \u001b[32m━━━━━━━━━━━━━━━━━━━━\u001b[0m\u001b[37m\u001b[0m \u001b[1m1s\u001b[0m 2ms/step - accuracy: 0.1073 - loss: 9.0244\n",
            "\u001b[1m313/313\u001b[0m \u001b[32m━━━━━━━━━━━━━━━━━━━━\u001b[0m\u001b[37m\u001b[0m \u001b[1m1s\u001b[0m 1ms/step - accuracy: 0.2610 - loss: 13.8915\n",
            "\u001b[1m313/313\u001b[0m \u001b[32m━━━━━━━━━━━━━━━━━━━━\u001b[0m\u001b[37m\u001b[0m \u001b[1m1s\u001b[0m 1ms/step - accuracy: 0.2160 - loss: 6.0031\n"
          ]
        },
        {
          "ename": "NameError",
          "evalue": "name 'shape' is not defined",
          "output_type": "error",
          "traceback": [
            "\u001b[0;31m---------------------------------------------------------------------------\u001b[0m",
            "\u001b[0;31mNameError\u001b[0m                                 Traceback (most recent call last)",
            "Cell \u001b[0;32mIn[16], line 3\u001b[0m\n\u001b[1;32m      1\u001b[0m InitialHyperParameter \u001b[38;5;241m=\u001b[39m np\u001b[38;5;241m.\u001b[39mrandom\u001b[38;5;241m.\u001b[39mnormal(\u001b[38;5;241m0\u001b[39m,\u001b[38;5;241m1\u001b[39m,\u001b[38;5;241m10\u001b[39m)\n\u001b[1;32m      2\u001b[0m PBT \u001b[38;5;241m=\u001b[39m PopulationBasedOptimizer(model\u001b[38;5;241m=\u001b[39mmodel, NumberOfAgents\u001b[38;5;241m=\u001b[39m\u001b[38;5;241m10\u001b[39m, CutOffMeasure\u001b[38;5;241m=\u001b[39m\u001b[38;5;241m0.2\u001b[39m, NumberOfLearningIterations\u001b[38;5;241m=\u001b[39m\u001b[38;5;241m20\u001b[39m, InitialHyperParameter\u001b[38;5;241m=\u001b[39mInitialHyperParameter)\n\u001b[0;32m----> 3\u001b[0m best_model \u001b[38;5;241m=\u001b[39m \u001b[43mPBT\u001b[49m\u001b[38;5;241;43m.\u001b[39;49m\u001b[43mPBTOptimise\u001b[49m\u001b[43m(\u001b[49m\u001b[43mtrain_data\u001b[49m\u001b[43m \u001b[49m\u001b[38;5;241;43m=\u001b[39;49m\u001b[43m \u001b[49m\u001b[43mtrain_data\u001b[49m\u001b[43m,\u001b[49m\u001b[43m \u001b[49m\u001b[43mtest_data\u001b[49m\u001b[43m \u001b[49m\u001b[38;5;241;43m=\u001b[39;49m\u001b[43m \u001b[49m\u001b[43mtest_data\u001b[49m\u001b[43m)\u001b[49m\n",
            "Cell \u001b[0;32mIn[15], line 26\u001b[0m, in \u001b[0;36mPopulationBasedOptimizer.PBTOptimise\u001b[0;34m(self, train_data, test_data)\u001b[0m\n\u001b[1;32m     24\u001b[0m \u001b[38;5;28;01mfor\u001b[39;00m index \u001b[38;5;129;01min\u001b[39;00m BadIndices:\n\u001b[1;32m     25\u001b[0m     Best_weights \u001b[38;5;241m=\u001b[39m \u001b[38;5;28mself\u001b[39m\u001b[38;5;241m.\u001b[39mlistOfAgents[Best]\u001b[38;5;241m.\u001b[39mget_weights()\n\u001b[0;32m---> 26\u001b[0m     \u001b[38;5;28mself\u001b[39m\u001b[38;5;241m.\u001b[39mlistOfAgents[index]\u001b[38;5;241m.\u001b[39mset_weights(\u001b[38;5;28mself\u001b[39m\u001b[38;5;241m.\u001b[39mlistOfAgents[Best]\u001b[38;5;241m.\u001b[39mget_weights() \u001b[38;5;241m+\u001b[39m np\u001b[38;5;241m.\u001b[39mrandom\u001b[38;5;241m.\u001b[39mnormal(\u001b[38;5;241m0\u001b[39m,\u001b[38;5;241m1\u001b[39m, \u001b[43mshape\u001b[49m(Best_weights)))\n\u001b[1;32m     27\u001b[0m     optimizer \u001b[38;5;241m=\u001b[39m kr\u001b[38;5;241m.\u001b[39moptimizers\u001b[38;5;241m.\u001b[39mAdam(learning_rate\u001b[38;5;241m=\u001b[39m\u001b[38;5;28mself\u001b[39m\u001b[38;5;241m.\u001b[39mInitialHyperParameter[Best])\n\u001b[1;32m     28\u001b[0m     \u001b[38;5;28mself\u001b[39m\u001b[38;5;241m.\u001b[39mlistOfAgents[index]\u001b[38;5;241m.\u001b[39mcompile(optimizer\u001b[38;5;241m=\u001b[39moptimizer, loss\u001b[38;5;241m=\u001b[39m\u001b[38;5;124m'\u001b[39m\u001b[38;5;124mcategoricalcross_entropy\u001b[39m\u001b[38;5;124m'\u001b[39m, metrics\u001b[38;5;241m=\u001b[39m[\u001b[38;5;124m'\u001b[39m\u001b[38;5;124maccuracy\u001b[39m\u001b[38;5;124m'\u001b[39m])\n",
            "\u001b[0;31mNameError\u001b[0m: name 'shape' is not defined"
          ]
        }
      ],
      "source": [
        "InitialHyperParameter = np.random.normal(0,1,10)\n",
        "PBT = PopulationBasedOptimizer(model=model, NumberOfAgents=10, CutOffMeasure=0.2, NumberOfLearningIterations=20, InitialHyperParameter=InitialHyperParameter)\n",
        "best_model = PBT.PBTOptimise(train_data = train_data, test_data = test_data)"
      ]
    }
  ],
  "metadata": {
    "kernelspec": {
      "display_name": "Python 3 (ipykernel)",
      "language": "python",
      "name": "python3",
      "path": "/Users/mandakausthubh/.pyenv/versions/3.12.5/share/jupyter/kernels/python3"
    },
    "language_info": {
      "codemirror_mode": {
        "name": "ipython",
        "version": 3
      },
      "file_extension": ".py",
      "mimetype": "text/x-python",
      "name": "python",
      "nbconvert_exporter": "python",
      "pygments_lexer": "ipython3",
      "version": "3.12.5"
    }
  },
  "nbformat": 4,
  "nbformat_minor": 4
}
